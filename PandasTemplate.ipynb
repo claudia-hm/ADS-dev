{
 "cells": [
  {
   "cell_type": "code",
   "execution_count": 1,
   "metadata": {},
   "outputs": [],
   "source": [
    "import pandas as pd\n",
    "unames = ['user_id', 'gender', 'age', 'occupation', 'zip']\n",
    "users = pd.read_csv('ml-1m/users.dat', sep='::', header=None, names=unames, engine='python', encoding='latin-1')\n",
    "rnames = ['user_id', 'movie_id', 'rating', 'timestamp']\n",
    "ratings = pd.read_csv('ml-1m/ratings.dat', sep='::', header=None, names=rnames,  engine='python', encoding='latin-1')\n",
    "mnames = ['movie_id', 'title', 'genres']\n",
    "movies = pd.read_csv('ml-1m/movies.dat', sep='::', header=None, names=mnames,  engine='python', encoding='latin-1')\n",
    "data = pd.merge(pd.merge(ratings, users), movies)"
   ]
  },
  {
   "cell_type": "markdown",
   "metadata": {},
   "source": [
    "# Exercises: \n",
    "\n",
    "**MovieLens database**"
   ]
  },
  {
   "cell_type": "markdown",
   "metadata": {},
   "source": [
    "1- Filter  films that have received at least 250 ratings. **Use only these films in the rest of exercices**"
   ]
  },
  {
   "cell_type": "code",
   "execution_count": 2,
   "metadata": {},
   "outputs": [],
   "source": [
    "def ex1():\n",
    "    ratings = data.groupby('title').size() \n",
    "    ratings = ratings[ratings>= 250].sort_values(ascending=False)\n",
    "    \n",
    "    return ratings\n",
    "     "
   ]
  },
  {
   "cell_type": "markdown",
   "metadata": {},
   "source": [
    "2- Obtain the mean ratings for each movie grouped by gender that have at least 250 ratings. "
   ]
  },
  {
   "cell_type": "code",
   "execution_count": 3,
   "metadata": {},
   "outputs": [],
   "source": [
    "def ex2():\n",
    "    subset_ratings = ex1()\n",
    "    i_drop = data[~data['title'].isin(subset_ratings.index)].index\n",
    "    data_2 = data.drop(i_drop)\n",
    "    \n",
    "    ratings = data_2[[\"title\", \"rating\", \"gender\"]].groupby([\"gender\",\"title\"]).mean()\n",
    "    ratings = pd.merge(ratings.loc[\"F\"], ratings.loc[\"M\"], on=\"title\", suffixes=('_F', '_M'))\n",
    "\n",
    "    return ratings"
   ]
  },
  {
   "cell_type": "markdown",
   "metadata": {},
   "source": [
    "3- Show films more valued by women."
   ]
  },
  {
   "cell_type": "code",
   "execution_count": 4,
   "metadata": {},
   "outputs": [],
   "source": [
    "def ex3():\n",
    "    ratings = ex2()\n",
    "    ratings = ratings.sort_values(by='rating_F', ascending= False)['rating_F']\n",
    "    \n",
    "    return ratings"
   ]
  },
  {
   "cell_type": "markdown",
   "metadata": {},
   "source": [
    "4- Now we wonder which movies are rated more differently between men and women. Which films have more different rating and are more highly valued by women? "
   ]
  },
  {
   "cell_type": "code",
   "execution_count": 5,
   "metadata": {},
   "outputs": [],
   "source": [
    "def ex4():\n",
    "    ratings = ex2()\n",
    "    ratings[\"diff\"]=ratings[\"rating_M\"]-ratings[\"rating_F\"]\n",
    "    ratings = ratings.sort_values(by='diff')\n",
    "    return ratings"
   ]
  },
  {
   "cell_type": "markdown",
   "metadata": {},
   "source": [
    "5- And which films have more different rating and are more highly valued by men? "
   ]
  },
  {
   "cell_type": "code",
   "execution_count": 6,
   "metadata": {},
   "outputs": [],
   "source": [
    "def ex5():\n",
    "    ratings = ex2()\n",
    "    ratings[\"diff\"]=ratings[\"rating_M\"]-ratings[\"rating_F\"]\n",
    "    ratings = ratings.sort_values(by='diff', ascending=False)\n",
    "    return ratings"
   ]
  },
  {
   "cell_type": "markdown",
   "metadata": {},
   "source": [
    "6- What are the films that have generated the most discordant ratings, regardless of gender?"
   ]
  },
  {
   "cell_type": "code",
   "execution_count": 7,
   "metadata": {},
   "outputs": [],
   "source": [
    "def ex6():\n",
    "    subset_ratings = ex1()\n",
    "    i_drop = data[~data['title'].isin(subset_ratings.index)].index\n",
    "    data_2 = data.drop(i_drop)\n",
    "    \n",
    "    ratings = data_2[[\"title\", \"rating\"]].groupby([\"title\"]).std()\n",
    "    ratings = ratings.sort_values(by='rating', ascending=False)\n",
    "    return ratings"
   ]
  },
  {
   "cell_type": "markdown",
   "metadata": {},
   "source": [
    "7- What is the highest rated movie in average?"
   ]
  },
  {
   "cell_type": "code",
   "execution_count": 8,
   "metadata": {},
   "outputs": [],
   "source": [
    "def ex7():\n",
    "    subset_ratings = ex1()\n",
    "    i_drop = data[~data['title'].isin(subset_ratings.index)].index\n",
    "    data_2 = data.drop(i_drop)\n",
    "    \n",
    "    ratings = data_2[[\"title\", \"rating\"]].groupby([\"title\"]).mean()\n",
    "    ratings = ratings.sort_values(by='rating', ascending=False)\n",
    "    ratings.drop(ratings.index[1:],inplace=True)\n",
    "    return ratings"
   ]
  },
  {
   "cell_type": "markdown",
   "metadata": {},
   "source": [
    "*** From here use all the ratings ***\n",
    "\n",
    "8- Calculate the average rating of each user. "
   ]
  },
  {
   "cell_type": "code",
   "execution_count": 9,
   "metadata": {},
   "outputs": [],
   "source": [
    "def ex8():\n",
    "    ratings = data[[\"user_id\", \"rating\"]].groupby([\"user_id\"]).mean()\n",
    "    return ratings"
   ]
  },
  {
   "cell_type": "markdown",
   "metadata": {},
   "source": [
    "9- Define a function called  <b>top_movies</b> that given a df, an user an a number n it returns what movies have the top n rank for this user.\n",
    "\n",
    "def top_movies(data,user,n)\n"
   ]
  },
  {
   "cell_type": "code",
   "execution_count": 10,
   "metadata": {},
   "outputs": [],
   "source": [
    "def top_movies(data_,usr,n_rows = 10):\n",
    "    ratings = data_[data_.user_id == usr][[\"title\",\"rating\"]].sort_values(by=\"rating\",ascending=False)[:n_rows]\n",
    "    return ratings\n",
    "def ex9():\n",
    "    return top_movies(data,1,30)\n"
   ]
  },
  {
   "cell_type": "markdown",
   "metadata": {},
   "source": [
    "** Data from CSV**"
   ]
  },
  {
   "cell_type": "markdown",
   "metadata": {},
   "source": [
    "10- Read data from csv file: `ma-ba.csv`. Count the number of times `Barça` wins `Madrid` and compute the stadistics of % win, % lose and % draw."
   ]
  },
  {
   "cell_type": "code",
   "execution_count": 11,
   "metadata": {},
   "outputs": [],
   "source": [
    "def ex10():\n",
    "    unames = [\"N\",\"Fecha\", \"Lugar\", \"Partidos\", \"Resultado\", \"Competición\"]\n",
    "    results = pd.read_csv('ma-ba.csv',header=None,skiprows=1, names = unames, engine='python').set_index(\"N\")\n",
    "    results[['equipo_1', 'equipo_2']] = results['Partidos'].str.split('-',expand=True)\n",
    "    results[\"equipo_1\"] = results[\"equipo_1\"].replace({'Madrid FC ': 'Madrid','Barcelona ':'Barça','R. Madrid ':'Madrid','R.Madrid  ':'Madrid' })\n",
    "    results[\"equipo_2\"] = results[\"equipo_2\"].replace({' Madrid FC': 'Madrid',' Barcelona':'Barça',' R. Madrid':'Madrid',' R.Madrid ':'Madrid' })\n",
    "    results[['result_1', 'result_2']] = results['Resultado'].str.split('-',expand=True)\n",
    "    results[[\"Barça_win\", \"Barça_lose\", \"Barça_draw\"]] = results[['equipo_1', 'equipo_2', 'result_1', 'result_2']].apply(\n",
    "        lambda d: [False, False, True] if d[2]==d[3] \n",
    "        else([True, False, False] if (d[2]>d[3] and d[0]==\"Barça\") or\n",
    "                                     (d[2]<d[3] and d[1]==\"Barça\")\n",
    "            else [False, True, False]), axis=1, result_type=\"expand\")\n",
    "        \n",
    "    wins = sum(results[\"Barça_win\"])\n",
    "    wins_perc = wins/len(results)\n",
    "    loses = sum(results[\"Barça_lose\"])\n",
    "    loses_perc = loses/len(results)\n",
    "    draws = sum(results[\"Barça_draw\"])\n",
    "    draws_perc = draws/len(results)    \n",
    "    results = pd.DataFrame(columns=[\"wins\", \"loses\", \"draws\", \"perc_win\", \"perc_lose\", \"perc_draw\"])\n",
    "    results.loc[\"Barcelona\"]= [wins, loses, draws, wins_perc, loses_perc, draws_perc]\n",
    "    results.loc[\"R. Madrid\"]= [loses, wins, draws, loses_perc, wins_perc, draws_perc]\n",
    "    \n",
    "    return results"
   ]
  },
  {
   "cell_type": "code",
   "execution_count": 12,
   "metadata": {},
   "outputs": [
    {
     "name": "stdout",
     "output_type": "stream",
     "text": [
      "10 UnicodeDecodeError('utf-8', b'  N\\xb0,   Fecha,       (Lugar),         Partidos,      resultado,   Competici\\xf3n\\n1,13-05-1902,(Madrid)   ,Madrid FC - Barcelona,1-3,Copa del Rey (1/2)\\n2,13-05-1906,(Barcelona),Barcelona - Madrid FC,5-2,Partido amistoso\\n3,01-11-1913,(Barcelona),Barcelona - Madrid FC,7-0,Partido amistoso\\n4,02-11-1913,(Barcelona),Barcelona - Madrid FC,1-0,Partido amistoso\\n5,06-01-1914,(Madrid)   ,Madrid FC - Barcelona,2-2,Partido amistoso\\n6,10-01-1914,(Madrid)   ,Madrid FC - Barcelona,0-2,Partido amistoso\\n7,05-03-1916,(Barcelona),Barcelona - Madrid FC,3-0,Partido amistoso\\n8,26-03-1916,(Barcelona),Barcelona - Madrid FC,2-1,Copa del Rey (1/2)\\n9,02-04-1916,(Madrid)   ,Madrid FC - Barcelona,4-1,Copa del Rey (1/2)\\n10,13-04-1916,(Madrid)   ,Madrid FC - Barcelona,6-6,Copa del Rey (1/2)\\n11,15-04-1916,(Madrid)   ,Madrid FC - Barcelona,4-2,Copa del Rey (1/2)\\n12,07-03-1916,(Barcelona),Barcelona - Madrid FC,0-0,Partido amistoso\\n13,01-11-1917,(Barcelona),Barcelona - Madrid FC,3-1,Partido amistoso\\n14,04-11-1917,(Barcelona),Barcelona - Madrid FC,4-1,Partido amistoso\\n15,20-02-1918,(Madrid)   ,Madrid FC - Barcelona,1-2,Partido amistoso\\n16,15-02-1920,(Barcelona),Barcelona - Madrid FC,2-2,Partido amistoso\\n17,18-02-1920,(Barcelona),Barcelona - Madrid FC,7-1,Partido amistoso\\n18,11-01-1921,(Barcelona),Barcelona - R. Madrid,3-0,Partido amistoso\\n19,15-03-1922,(Madrid)   ,R. Madrid - Barcelona,2-2,Partido amistoso\\n20,18-04-1926,(Madrid)   ,R. Madrid - Barcelona,1-5,Copa del Rey (1/4)\\n21,25-04-1926,(Barcelona),Barcelona - R. Madrid,3-0,Copa del Rey (1/4)\\n22,02-02-1927,(Barcelona),Barcelona - R. Madrid,0-0,Partido amistoso\\n23,19-03-1927,(Madrid)   ,R. Madrid - Barcelona,1-5, Partido amistoso\\n24,20-03-1927,(Madrid)   ,R. Madrid - Barcelona,1-4,Partido amistoso\\n25,27-05-1928,(Barcelona),Barcelona - R. Madrid,2-2,Torneo Campeones\\n26,03-06-1928,(Madrid)   ,R. Madrid - Barcelona,1-1,Torneo Campeones\\n27,17-02-1929,(Barcelona),Barcelona - R. Madrid,1-2,Cto. de Liga (2\\xaa)\\n28,09-05-1929,(Madrid)   ,R. Madrid - Barcelona,0-1,Cto. de Liga(11\\xaa)\\n29,26-01-1930,(Barcelona),Barcelona - R. Madrid,1-4,Cto. de Liga(9\\xaa)\\n30,30-03-1930,(Madrid)   ,R. Madrid - Barcelona,5-1,Cto. de Liga(18\\xaa)\\n31,01-02-1931,(Madrid)   ,R. Madrid - Barcelona,0-0,Cto. de Liga(9\\xaa)\\n32,05-04-1931,(Barcelona),Barcelona - R. Madrid,3-1,Cto. de Liga(18\\xaa)\\n33,31-01-1932,(Madrid)   ,R. Madrid - Barcelona,2-0,Cto. de Liga(9\\xaa)\\n34,03-04-1932,(Barcelona),Barcelona - R. Madrid,2-2,Cto. de Liga(18\\xaa)\\n35,03-07-1932,(Barcelona),Barcelona - R. Madrid,2-2,Partido amistoso\\n36,01-01-1933,(Barcelona),Barcelona - R. Madrid,1-1,Cto. de Liga(6\\xaa)\\n37,05-03-1933,(Madrid)   ,R. Madrid - Barcelona,2-1,Cto. de Liga(15\\xaa)\\n38,26-11-1933,(Barcelona),Barcelona - R. Madrid,1-2,Cto. de Liga(4\\xaa)\\n39,28-01-1934,(Madrid)   ,R. Madrid - Barcelona,4-0,Cto. de Liga(13\\xaa)\\n40,25-11-1934,(Madrid)   ,R. Madrid - Barcelona,5-1,Partido amistoso\\n41,03-02-1935,(Madrid)   ,R. Madrid - Barcelona,8-2,Cto. de Liga(10\\xaa)\\n42,21-04-1935,(Barcelona),Barcelona - R. Madrid,5-0,Cto. de Liga(21\\xaa)\\n43,22-12-1935,(Barcelona),Barcelona - R. Madrid,0-3,Cto. de Liga(7\\xaa)\\n44,22-03-1936,(Madrid)   ,R. Madrid - Barcelona,3-0,Cto. de Liga(18\\xaa)\\n45,21-06-1936,(Valencia) ,R. Madrid - Barcelona,2-1,Copa Presidente (F)\\n46,28-01-1940,(Madrid)   ,R. Madrid - Barcelona,2-1,Cto. de Liga(9\\xaa)\\n47,14-04-1940,(Barcelona),Barcelona - R. Madrid,0-0,Cto. de Liga(20\\xaa)\\n48,15-09-1940,(Barcelona),Barcelona - R. Madrid,5-4,Partido amistoso\\n49,01-12-1940,(Barcelona),Barcelona - R. Madrid,3-0,Cto. de Liga(10\\xaa)\\n50,23-02-1941,(Madrid)   ,R. Madrid - Barcelona,1-2,Cto. de Liga(21\\xaa)\\n51,08-06-1941,(Madrid)   ,R. Madrid - Barcelona,2-3,Partido amistoso\\n52,19-10-1941,(Madrid)   ,R. Madrid - Barcelona,4-3,Cto. de Liga(4\\xaa)\\n53,25-01-1942,(Barcelona),Barcelona - R. Madrid,0-2,Cto. de Liga(17\\xaa)\\n54,27-09-1942,(Madrid)   ,R. Madrid - Barcelona,3-0,Cto. de Liga(1\\xaa)\\n55,10-01-1943,(Barcelona),Barcelona - R. Madrid,5-5,Cto. de Liga(14\\xaa)\\n56,06-06-1943,(Barcelona),Barcelona - R. Madrid,3-0,C.Generalisimo(1/2)\\n57,13-06-1943,(Madrid)   ,R. Madrid - Barcelona,11-1,C.Generalisimo(1/2)\\n58,31-10-1943,(Madrid)   ,R. Madrid - Barcelona,1-1,homenaje a Monjard\\xedn\\n59,26-12-1943,(Barcelona),Barcelona - R. Madrid,4-0,homenaje a Franco\\n60,02-01-1944,(Madrid)   ,R. Madrid - Barcelona,0-1,Cto. de Liga(13\\xaa)\\n61,09-04-1944,(Barcelona),Barcelona - R. Madrid,1-2,Cto. de Liga(26\\xaa)\\n62,12-11-1944,(Madrid)   ,R. Madrid - Barcelona,1-0,Cto. de Liga(8\\xaa)\\n63,25-03-1945,(Barcelona),Barcelona - R. Madrid,5-0,Cto. de Liga(21\\xaa)\\n64,25-11-1945,(Madrid)   ,R. Madrid - Barcelona,3-2,Cto. de Liga(9\\xaa)\\n65,03-03-1946,(Barcelona),Barcelona - R. Madrid,1-0,Cto. de Liga(22\\xaa)\\n66,01-12-1946,(Madrid)   ,R. Madrid - Barcelona,2-1,Cto. de Liga(11\\xaa)\\n67,30-03-1947,(Barcelona),Barcelona - R. Madrid,3-2,Cto. de Liga(24\\xaa)\\n68,12-10-1947,(Madrid)   ,R. Madrid - Barcelona,1-1,Cto. de Liga(4\\xaa)\\n69,25-01-1948,(Barcelona),Barcelona - R. Madrid,4-2,Cto. de Liga(17\\xaa)\\n70,23-05-1948,(Barcelona),Barcelona - R. Madrid,1-0,Torneo Hist\\xf3ricos\\n71,30-05-1948,(Madrid)   ,R. Madrid - Barcelona,0-1,Torneo Hist\\xf3ricos \\n72,19-09-1948,(Madrid)   ,R. Madrid - Barcelona,1-2,Cto. de Liga(2\\xaa)\\n73,09-01-1949,(Barcelona),Barcelona - R. Madrid,3-1,Cto. de Liga(15\\xaa)\\n74,18-09-1949,(Madrid)   ,R. Madrid - Barcelona,6-1,Cto. de Liga(3\\xaa)\\n75,15-01-1950,(Barcelona),Barcelona - R. Madrid,2-3,Cto. de Liga(16\\xaa)\\n76,24-09-1950,(Barcelona),Barcelona - R. Madrid,7-2,Cto. de Liga(3\\xaa)\\n77,14-01-1951,(Madrid)   ,R. Madrid - Barcelona,4-1,Cto. de Liga(18\\xaa)\\n78,11-11-1951,(Madrid)   ,R. Madrid - Barcelona,5-1,Cto. de Liga(10\\xaa)\\n79,02-03-1952,(Barcelona),Barcelona - R. Madrid,4-2,Cto. de Liga(25\\xaa)\\n80,23-11-1952,(Madrid)   ,R. Madrid - Barcelona,2-1,Cto. de Liga(11\\xaa)\\n81,05-04-1953,(Barcelona),Barcelona - R. Madrid,1-0,Cto. de Liga(26\\xaa)\\n82,25-10-1953,(Madrid)   ,R. Madrid - Barcelona,5-0,Cto. de Liga(7\\xaa)\\n83,21-02-1954,(Barcelona),Barcelona - R. Madrid,5-1,Cto. de Liga(22\\xaa)\\n84,06-06-1954,(Madrid)   ,R. Madrid - Barcelona,1-0,C.Generalisimo(1/2)\\n85,13-06-1954,(Barcelona),Barcelona - R. Madrid,3-1,C.Generalisimo(1/2)\\n86,21-11-1954,(Madrid)   ,R. Madrid - Barcelona,3-0,Cto. de Liga(11\\xaa)\\n87,06-03-1955,(Barcelona),Barcelona - R. Madrid,2-2,Cto. de Liga(26\\xaa)\\n88,13-11-1955,(Madrid)   ,R. Madrid - Barcelona,2-1,Cto. de Liga(10\\xaa)\\n89,18-03-1956,(Barcelona),Barcelona - R. Madrid,2-0,Cto. de Liga(25\\xaa)\\n90,11-11-1956,(Barcelona),Barcelona - R. Madrid,1-0,Cto. de Liga(10\\xaa)\\n91,03-03-1957,(Madrid)   ,R. Madrid - Barcelona,1-0,Cto. de Liga(25\\xaa)\\n92,12-05-1957,(Madrid)   ,R. Madrid - Barcelona,2-2,C.Generalisimo(1/4)\\n93,19-05-1957,(Barcelona),Barcelona - R. Madrid,6-1,C.Generalisimo(1/4)\\n94,13-10-1957,(Madrid)   ,R. Madrid - Barcelona,3-0,Cto. de Liga(5\\xaa)\\n95,02-02-1958,(Barcelona),Barcelona - R. Madrid,0-2,Cto. de Liga(20\\xaa)\\n96,26-10-1958,(Barcelona),Barcelona - R. Madrid,4-0,Cto. de Liga(7\\xaa)\\n97,15-02-1959,(Madrid)   ,R. Madrid - Barcelona,0-0,Cto. de Liga(22\\xaa)\\n98,07-06-1959,(Madrid)   ,R. Madrid - Barcelona,2-4,C.Generalisimo(1/2)\\n99,14-06-1959,(Barcelona),Barcelona - R. Madrid,3-1,C.Generalisimo(1/2)\\n100,30-08-1959,(C\\xe1diz)    ,R. Madrid - Barcelona,4-3,Trofeo Carranza(F)\\n101,29-11-1959,(Madrid)   ,R. Madrid - Barcelona,2-0,Cto. de Liga(11\\xaa)\\n102,20-03-1960,(Barcelona),Barcelona - R. Madrid,3-1,Cto. de Liga(26\\xaa)\\n103,21-04-1960,(Madrid)   ,R. Madrid - Barcelona,3-1,Copa Europa (1/2)\\n104,27-04-1960,(Barcelona),Barcelona - R. Madrid,1-3,Copa Europa (1/2)\\n105,09-11-1960,(Barcelona),R. Madrid - Barcelona,2-2,Copa Europa (1/8)\\n106,23-11-1960,(Madrid)   ,Barcelona - R. Madrid,2-1,Copa Europa (1/8)\\n107,04-12-1960,(Barcelona),Barcelona - R. Madrid,3-5,Cto. de Liga(12\\xaa)\\n108,26-03-1961,(Madrid)   ,R. Madrid - Barcelona,3-2,Cto. de Liga(27\\xaa)\\n109,30-09-1961,(Madrid)   ,R. Madrid - Barcelona,2-0,Cto. de Liga(5\\xaa)\\n110,21-01-1962,(Barcelona),Barcelona - R. Madrid,3-1,Cto. de Liga(20\\xaa)\\n111,15-04-1962,(Madrid)   ,R. Madrid - Barcelona,0-1,C. Generalisimo(1/4)\\n112,22-04-1962,(Barcelona),Barcelona - R. Madrid,1-3,C. Generalisimo(1/4)\\n113,30-09-1962,(Madrid)   ,R. Madrid - Barcelona,2-0,Cto. de Liga(3\\xaa)\\n114,27-01-1963,(Barcelona),Barcelona - R. Madrid,1-5,Cto. de Liga(18\\xaa)\\n115,15-12-1963,(Madrid)   ,R. Madrid - Barcelona,4-0,Cto. de Liga(12\\xaa)\\n116,30-03-1964,(Barcelona),Barcelona - R. Madrid,1-2,Cto. de L', 3, 4, 'invalid start byte')\n"
     ]
    }
   ],
   "source": [
    "n = 11\n",
    "for i in range(1,n):\n",
    "    try:\n",
    "        df = globals()[\"ex\"+str(i)]()\n",
    "        df.to_csv(str(i)+\"_claudia.csv\",header=False)\n",
    "    except Exception as e: \n",
    "        print(i,repr(e))\n",
    "        open(str(i)+\".csv\",\"a\").close()\n"
   ]
  },
  {
   "cell_type": "code",
   "execution_count": null,
   "metadata": {},
   "outputs": [],
   "source": []
  }
 ],
 "metadata": {
  "kernelspec": {
   "display_name": "Python 3 (ipykernel)",
   "language": "python",
   "name": "python3"
  },
  "language_info": {
   "codemirror_mode": {
    "name": "ipython",
    "version": 3
   },
   "file_extension": ".py",
   "mimetype": "text/x-python",
   "name": "python",
   "nbconvert_exporter": "python",
   "pygments_lexer": "ipython3",
   "version": "3.8.10"
  }
 },
 "nbformat": 4,
 "nbformat_minor": 1
}
